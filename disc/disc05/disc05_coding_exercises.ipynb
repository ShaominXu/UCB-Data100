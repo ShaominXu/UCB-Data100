{
 "cells": [
  {
   "attachments": {},
   "cell_type": "markdown",
   "id": "d21093a4",
   "metadata": {},
   "source": [
    "# Discussion 5: Visualizing Bigfoot"
   ]
  },
  {
   "attachments": {},
   "cell_type": "markdown",
   "id": "a37ebceb",
   "metadata": {},
   "source": [
    "Many of you have probably heard of Bigfoot before. It's a mysterious ape-like creature that is said to live in North American forests. Most doubt it's existence, but a passionate few swear that bigfoot is real. In this discussion, you will be working with a dataset on bigfoot sightings, visualizing variable distributions and combinations thereof to better understand how/when/where bigfoot is reportedly spotted, and possibly either confirm or cast doubt on its existence. The bigfoot data contains a ton of variables about each reported bigfoot spotting, including location information, weather, and moon phase."
   ]
  },
  {
   "cell_type": "code",
   "execution_count": null,
   "id": "484c40b6",
   "metadata": {},
   "outputs": [],
   "source": [
    "# Importing packages\n",
    "\n",
    "import pandas as pd\n",
    "import matplotlib.pyplot as plt\n",
    "import seaborn as sns\n",
    "\n",
    "import warnings\n",
    "warnings.filterwarnings('ignore')"
   ]
  },
  {
   "cell_type": "code",
   "execution_count": null,
   "id": "7e62158e",
   "metadata": {},
   "outputs": [],
   "source": [
    "# Loading bigfoot data\n",
    "\n",
    "url = 'https://raw.githubusercontent.com/rfordatascience/tidytuesday/master/data/2022/2022-09-13/bigfoot.csv'\n",
    "df = pd.read_csv(url)"
   ]
  },
  {
   "attachments": {},
   "cell_type": "markdown",
   "id": "2a86b6b2",
   "metadata": {},
   "source": [
    "This dataset is extremely messy, with observations missing many values across multiple columns. This is normally the case with data based on citizen reports (many do not fill out all required fields). For the purposes of this discussion, we will drop all observations with any missing values and some unneeded columns. However, note this is not a good practice and you should almost never do this in real life!"
   ]
  },
  {
   "cell_type": "code",
   "execution_count": null,
   "id": "d93f2db1",
   "metadata": {},
   "outputs": [],
   "source": [
    "# Drop unneeded rows and observations with missing values\n",
    "\n",
    "bigfoot = df.dropna().rename({'temperature_high':'temp_high' ,'temperature_low':'temp_low'},axis = 1)\n",
    "bigfoot = bigfoot.drop(['observed', 'location_details', 'county', 'state', 'title',\n",
    "       'latitude', 'longitude', 'number', 'classification', 'geohash',\n",
    "       'temperature_mid', 'dew_point','precip_probability', 'precip_type','summary', \n",
    "       'wind_bearing'], axis = 1)"
   ]
  },
  {
   "attachments": {},
   "cell_type": "markdown",
   "id": "7e9823a6",
   "metadata": {},
   "source": [
    "Here are the first few entries of the `bigfoot` table:"
   ]
  },
  {
   "cell_type": "code",
   "execution_count": null,
   "id": "1d1d3419",
   "metadata": {},
   "outputs": [],
   "source": [
    "bigfoot.head(5)"
   ]
  },
  {
   "attachments": {},
   "cell_type": "markdown",
   "id": "5e4aeeae",
   "metadata": {},
   "source": [
    "### Question 1\n",
    "\n",
    "Let's first look at distributions of individual quantitative variables. Let's say we're interested in `wind_speed`. \n",
    "#### Part A\n",
    "Which of the following are appropriate visualizations for plotting the distribution of a quantitative continuous variable? (Select all that applies)\n",
    "\n",
    "A. Pie charts\n",
    "\n",
    "B. Kernel Density Plot\n",
    "\n",
    "C. Scatter plot\n",
    "\n",
    "D. Boxplot\n",
    "\n",
    "E. Histogram\n",
    "\n",
    "F. Hexplots"
   ]
  },
  {
   "cell_type": "markdown",
   "id": "36eb1cdd-e2d6-4894-bedc-ee5a8dae9b1a",
   "metadata": {},
   "source": [
    "**Solution**: Write your solution here"
   ]
  },
  {
   "cell_type": "code",
   "execution_count": null,
   "id": "17dc51f6-b1aa-4776-bead-5821df54afcb",
   "metadata": {},
   "outputs": [],
   "source": [
    "# YOUR CODE HERE"
   ]
  },
  {
   "attachments": {},
   "cell_type": "markdown",
   "id": "e016d182",
   "metadata": {},
   "source": [
    "###  Question 2\n",
    "\n",
    "Now, let's see how two variables might relate to each other when BigFoot is reportedly out. Fill in the function to produce a visualization that shows what combinations of values of `moon_phase` and `wind_speed` are most common when BigFoot is spotted (example shown below). \n",
    "\n",
    "**Hint**: Use `seaborn`'s `sns.kdeplot` function. \n",
    "\n",
    "![](https://drive.google.com/uc?export=view&id=1Th31v4jb9i43YrsfhV-HUpls48XszWjD)"
   ]
  },
  {
   "cell_type": "code",
   "execution_count": null,
   "id": "afcdb2db",
   "metadata": {},
   "outputs": [],
   "source": [
    "## type(variable1) == String\n",
    "## type(variable2) == String\n",
    "def plot(variable1,variable2):\n",
    "    # YOUR CODE HERE\n",
    "    \n",
    "plot(\"moon_phase\", \"wind_speed\""
   ]
  },
  {
   "attachments": {},
   "cell_type": "markdown",
   "id": "f8b7839e",
   "metadata": {},
   "source": [
    "### Question 3\n",
    "\n",
    "Now, let's look at some qualitative variables. Write a line of code that produces a visualization that shows the distribution of bigfoot sightings across the variable `season` (example shown below). \n",
    "\n",
    "**Hint:** Use `seaborn`'s `sns.countplot` or `matplotlib`'s `plt.bar`.\n",
    "\n",
    "![](https://drive.google.com/uc?export=view&id=1epvnkLB4Ncqg719_g8guYb5UUC7_Qd2i)"
   ]
  },
  {
   "cell_type": "code",
   "execution_count": null,
   "id": "925453ac",
   "metadata": {},
   "outputs": [],
   "source": [
    "# YOUR CODE HERE"
   ]
  },
  {
   "cell_type": "markdown",
   "id": "d3bb3c94-babc-4d0e-aa03-042ea6abf49c",
   "metadata": {},
   "source": [
    "## Question 4\n",
    "Produce a single visualization that showcases how the prevalence of BigFoot sightings at particular combinations of `moon_phase` and `wind_speed` vary across each season.\n",
    "\n",
    "**hint**: Think about color as the third information channel in the plot.\n",
    "\n",
    "\n",
    "![](moon_vs_wind.png)"
   ]
  },
  {
   "cell_type": "code",
   "execution_count": null,
   "id": "a47e217a-fa71-43f7-ac3f-f3f058cb5154",
   "metadata": {},
   "outputs": [],
   "source": [
    "# YOUR CODE HERE"
   ]
  }
 ],
 "metadata": {
  "kernelspec": {
   "display_name": "Python 3 (ipykernel)",
   "language": "python",
   "name": "python3"
  },
  "language_info": {
   "codemirror_mode": {
    "name": "ipython",
    "version": 3
   },
   "file_extension": ".py",
   "mimetype": "text/x-python",
   "name": "python",
   "nbconvert_exporter": "python",
   "pygments_lexer": "ipython3",
   "version": "3.11.0"
  },
  "vscode": {
   "interpreter": {
    "hash": "aea83e800b3f611b156506e3451d6446f84c720051bc83a1d66a677713fe7b36"
   }
  }
 },
 "nbformat": 4,
 "nbformat_minor": 5
}
