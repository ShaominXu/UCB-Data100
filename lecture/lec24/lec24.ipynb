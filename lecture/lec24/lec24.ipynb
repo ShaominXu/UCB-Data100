{
 "cells": [
  {
   "cell_type": "markdown",
   "id": "6782be9f-7d8d-4097-86a9-cfb32cc9881b",
   "metadata": {},
   "source": [
    "# Lecture 24 – Data 100, Fall 2023\n",
    "\n",
    "Data 100, Fall 2023"
   ]
  },
  {
   "cell_type": "markdown",
   "id": "2e25f1ff-84c4-4144-888a-4f0e8d830a94",
   "metadata": {},
   "source": [
    "## Getting Setup\n",
    "\n",
    "You can run this notebook on the Jupyter Hub machines but you will need to setup an OpenAI account.  Alternatively, if you are running on your own computer you can also try to run a model locally."
   ]
  },
  {
   "cell_type": "markdown",
   "id": "b4bbdbaa-902d-4687-867a-a18e416b5fa4",
   "metadata": {},
   "source": [
    "### Step 1. Create an OpenAI account\n",
    "\n",
    "You can create a free account which has some initial free credits by going here:\n",
    "\n",
    "https://platform.openai.com"
   ]
  },
  {
   "cell_type": "markdown",
   "id": "912e12bc-e383-47a8-812f-6b28bf898feb",
   "metadata": {},
   "source": [
    "You will the need to get an API Key.  Save that api key to a local file called `openai.key`:"
   ]
  },
  {
   "cell_type": "code",
   "execution_count": 17,
   "id": "7944a9ca-5840-4855-aa23-eeed62052a60",
   "metadata": {
    "tags": []
   },
   "outputs": [],
   "source": [
    "with open(\"openai.key\", \"w\") as f:\n",
    "    f.write(\"Your API Key\")"
   ]
  },
  {
   "cell_type": "markdown",
   "id": "8d248919-629b-4625-912e-7b621793e4a7",
   "metadata": {},
   "source": [
    "### Step 2. Install Python Tools\n",
    "\n",
    "Uncomment the following line. "
   ]
  },
  {
   "cell_type": "code",
   "execution_count": 18,
   "id": "d5ea34f6-4593-4b0b-9682-ebfbcaf1c7ff",
   "metadata": {
    "tags": []
   },
   "outputs": [],
   "source": [
    "# !pip install openai langchain"
   ]
  },
  {
   "cell_type": "markdown",
   "id": "64d512ef-d75f-49f4-ac20-cea62c54588a",
   "metadata": {},
   "source": [
    "## Using OpenAI with LangChain"
   ]
  },
  {
   "cell_type": "code",
   "execution_count": 19,
   "id": "b5db46b6-cc75-4c11-8827-2c7707f0513c",
   "metadata": {
    "tags": []
   },
   "outputs": [],
   "source": [
    "from langchain.llms import OpenAI"
   ]
  },
  {
   "cell_type": "code",
   "execution_count": 20,
   "id": "cfed934f-a077-4c2e-8671-f1bc344b067a",
   "metadata": {
    "tags": []
   },
   "outputs": [],
   "source": [
    "openai_key = open(\"openai.key\", \"r\").readline()\n",
    "llm = OpenAI(openai_api_key=openai_key,\n",
    "             model=\"gpt-3.5-turbo-instruct\", \n",
    "             #temperature=0, \n",
    "             max_tokens=512)"
   ]
  },
  {
   "cell_type": "code",
   "execution_count": 21,
   "id": "8193f069-8736-42b6-944e-38d73f0d35bf",
   "metadata": {
    "tags": []
   },
   "outputs": [
    {
     "data": {
      "text/plain": [
       "'\\n\\nThe capital of California is Sacramento.'"
      ]
     },
     "execution_count": 21,
     "metadata": {},
     "output_type": "execute_result"
    }
   ],
   "source": [
    "llm(\"What is the capital of California?\")"
   ]
  },
  {
   "cell_type": "code",
   "execution_count": 22,
   "id": "fc879bf9-6463-4c13-80fe-a2046c4489f8",
   "metadata": {
    "tags": []
   },
   "outputs": [
    {
     "name": "stdout",
     "output_type": "stream",
     "text": [
      "\n",
      "Verse 1:\n",
      "Data science, it's the future we embrace\n",
      "Using numbers to unlock the human race\n",
      "From predictions to insights, we see it all\n",
      "But now we've got something new, standing tall\n",
      "\n",
      "Chorus:\n",
      "Large language models, they're here to stay\n",
      "With endless knowledge, they'll light the way\n",
      "From GPT-3 to BERT, they're the real deal\n",
      "In data science, they're the ultimate reveal\n",
      "\n",
      "Verse 2:\n",
      "With billions of parameters, they're learning fast\n",
      "Analyzing text, from present to the past\n",
      "They can generate, translate, and summarize\n",
      "Making our tasks easier, no surprise\n",
      "\n",
      "Chorus:\n",
      "Large language models, they're here to stay\n",
      "With endless knowledge, they'll light the way\n",
      "From GPT-3 to BERT, they're the real deal\n",
      "In data science, they're the ultimate reveal\n",
      "\n",
      "Bridge:\n",
      "But with great power, comes great responsibility\n",
      "We must use them wisely, with integrity\n",
      "For the future of AI, lies in our hands\n",
      "Let's harness their potential, and make great plans\n",
      "\n",
      "Chorus:\n",
      "Large language models, they're here to stay\n",
      "With endless knowledge, they'll light the way\n",
      "From GPT-3 to BERT, they're the real deal\n",
      "In data science, they're the ultimate reveal\n",
      "\n",
      "Outro:\n",
      "So let's embrace data science, and these models too\n",
      "Together we can do things, we never thought we'd do\n",
      "With endless possibilities, the future's bright\n",
      "Data science and large language models, shining light."
     ]
    }
   ],
   "source": [
    "for chunk in llm.stream(\"Write a short song about data science and large language models.\"):\n",
    "    print(chunk, end=\"\", flush=True)"
   ]
  },
  {
   "cell_type": "markdown",
   "id": "aca19c5b-37ea-4ba6-b365-996433badb5a",
   "metadata": {
    "tags": []
   },
   "source": [
    "## Running Locally with Ollama and LangChain\n",
    "You can download and install Ollama from:\n",
    "\n",
    "https://ollama.ai/download\n",
    "\n",
    "This will run models locally"
   ]
  },
  {
   "cell_type": "code",
   "execution_count": 23,
   "id": "3ce1708d-ff84-4fb7-bd6a-1e5deae119c8",
   "metadata": {
    "tags": []
   },
   "outputs": [],
   "source": [
    "# from langchain.llms import Ollama\n",
    "# from langchain.callbacks.manager import CallbackManager\n",
    "# from langchain.callbacks.streaming_stdout import StreamingStdOutCallbackHandler\n",
    "# vicuna = Ollama(\n",
    "#     model=\"vicuna\", \n",
    "#     #    temperature=0,\n",
    "#     callback_manager=CallbackManager([StreamingStdOutCallbackHandler()])\n",
    "# )"
   ]
  },
  {
   "cell_type": "code",
   "execution_count": 24,
   "id": "6fc9f909-25b6-435b-ab24-e8430606f4f2",
   "metadata": {
    "scrolled": true,
    "tags": []
   },
   "outputs": [],
   "source": [
    "# vicuna(\"What is the capital of California? Answer with only one word.\")"
   ]
  },
  {
   "cell_type": "code",
   "execution_count": 25,
   "id": "33244d76-8750-4ff9-a291-dfc74ee6e5f1",
   "metadata": {
    "tags": []
   },
   "outputs": [],
   "source": [
    "# vicuna(\"Write a short song about data science and large language models.\")"
   ]
  },
  {
   "cell_type": "markdown",
   "id": "78c9a56d-3b1a-45e8-9d02-1afa9e86f22f",
   "metadata": {},
   "source": [
    "<br><br><br><br><br>\n",
    "\n",
    "## Data Analytics\n",
    "\n",
    "We can use LLMs to help in analyzing data"
   ]
  },
  {
   "cell_type": "code",
   "execution_count": 26,
   "id": "19d600f2-fd5a-4a73-9182-f5696f0c4f97",
   "metadata": {
    "tags": []
   },
   "outputs": [
    {
     "data": {
      "text/plain": [
       "['RT @RepEscobar: Our country has the moral obligation and responsibility to reunite every single family separated at the southern border.\\n\\nT…',\n",
       " 'RT @RoKhanna: What happens when we guarantee $15/hour?\\n\\n💰 31% of Black workers and 26% of Latinx workers get raises.\\n😷 A majority of essent…',\n",
       " '(Source: https://t.co/3o5JEr6zpd)',\n",
       " 'Joe Cunningham pledged to never take corporate PAC money, and he never did. Mace said she’ll cash every check she gets. Yet another way this is a downgrade. https://t.co/DytsQXKXgU',\n",
       " 'What’s even more gross is that Mace takes corporate PAC money.\\n\\nShe’s already funded by corporations. Now she’s choosing to swindle working people on top of it.\\n\\nPeak scam artistry. Caps for cash 💰 https://t.co/CcVxgDF6id',\n",
       " 'Joe Cunningham already proving to be leagues more decent + honest than Mace seems capable of.\\n\\nThe House was far better off w/ Cunningham. It’s sad to see Mace diminish the representation of her community by launching a reputation of craven dishonesty right off the bat.',\n",
       " 'Pretty horrible.\\n\\nWell, it’s good to know what kind of person she is early. Also good to know that Mace is cut from the same Trump cloth of dishonesty and opportunism.\\n\\nSad to see a colleague intentionally hurt other women and survivors to make a buck. Thought she’d be better. https://t.co/CcVxgDF6id',\n",
       " 'RT @jaketapper: .@RepNancyMace fundraising off the false smear that @AOC misrepresented her experience during the insurrection. She didn’t.…',\n",
       " 'RT @RepMcGovern: One reason Washington can’t “come together” is because of people like her sending out emails like this.\\n\\nShe should apolog…',\n",
       " 'RT @JoeNeguse: Just to be clear, “targeting” stimulus checks means denying them to some working families who would otherwise receive them.']"
      ]
     },
     "execution_count": 26,
     "metadata": {},
     "output_type": "execute_result"
    }
   ],
   "source": [
    "import pandas as pd\n",
    "tweets = pd.read_json(\"AOC_recent_tweets.txt\")\n",
    "list(tweets['full_text'][0:10])"
   ]
  },
  {
   "cell_type": "markdown",
   "id": "8bc749e6-7354-4322-92d7-27e3991cfdf7",
   "metadata": {},
   "source": [
    "<br><br><br>\n",
    "Suppose I wanted to evaluate whether a tweet is attacking someone"
   ]
  },
  {
   "cell_type": "code",
   "execution_count": 27,
   "id": "f98fd232-f266-4d39-81bc-e07f303c3454",
   "metadata": {
    "tags": []
   },
   "outputs": [],
   "source": [
    "prompt = \"\"\"\n",
    "Is the following text making a statement about minimum wage? You should answer either Yes or No.\n",
    "\n",
    "{text}\n",
    "\n",
    "Answer:\n",
    "\"\"\"\n",
    "questions = [prompt.format_map(dict(text=t)) for t in tweets['full_text'].head(20)]"
   ]
  },
  {
   "cell_type": "markdown",
   "id": "6e0a07bc-f415-457d-ab4e-65fb4d226d90",
   "metadata": {},
   "source": [
    "Ask each of the LLMs to answer the questions:"
   ]
  },
  {
   "cell_type": "code",
   "execution_count": 28,
   "id": "a4bd273a-f007-4ffb-82de-36a6c6a3c2d8",
   "metadata": {
    "tags": []
   },
   "outputs": [
    {
     "data": {
      "text/plain": [
       "['\\nYes',\n",
       " '\\nYes',\n",
       " '\\nNo',\n",
       " '\\nNo',\n",
       " '\\nNo',\n",
       " '\\nNo',\n",
       " 'Yes',\n",
       " '\\nNo',\n",
       " '\\nNo',\n",
       " '\\nYes',\n",
       " '\\nNo',\n",
       " '\\nNo',\n",
       " '\\nNo',\n",
       " 'No',\n",
       " 'No',\n",
       " '\\nNo',\n",
       " 'No',\n",
       " '\\nNo',\n",
       " '\\nYes',\n",
       " 'No ']"
      ]
     },
     "execution_count": 28,
     "metadata": {},
     "output_type": "execute_result"
    }
   ],
   "source": [
    "open_ai_answers = llm.batch(questions)\n",
    "open_ai_answers"
   ]
  },
  {
   "cell_type": "code",
   "execution_count": 29,
   "id": "9327cd70-e9b3-41b5-9d18-c4f61d918764",
   "metadata": {
    "tags": []
   },
   "outputs": [],
   "source": [
    "# vicuna_answers = vicuna.batch(questions)\n",
    "# vicuna_answers"
   ]
  },
  {
   "cell_type": "code",
   "execution_count": 30,
   "id": "2c74df98-8fbd-419a-ad8a-a4a5ce83665b",
   "metadata": {
    "tags": []
   },
   "outputs": [
    {
     "data": {
      "text/html": [
       "<div>\n",
       "<style scoped>\n",
       "    .dataframe tbody tr th:only-of-type {\n",
       "        vertical-align: middle;\n",
       "    }\n",
       "\n",
       "    .dataframe tbody tr th {\n",
       "        vertical-align: top;\n",
       "    }\n",
       "\n",
       "    .dataframe thead th {\n",
       "        text-align: right;\n",
       "    }\n",
       "</style>\n",
       "<table border=\"1\" class=\"dataframe\">\n",
       "  <thead>\n",
       "    <tr style=\"text-align: right;\">\n",
       "      <th></th>\n",
       "      <th>OpenAI</th>\n",
       "      <th>Text</th>\n",
       "    </tr>\n",
       "  </thead>\n",
       "  <tbody>\n",
       "    <tr>\n",
       "      <th>0</th>\n",
       "      <td>True</td>\n",
       "      <td>RT @RepEscobar: Our country has the moral obligation and responsibility to reunite every single family separated at the southern border.\\n\\nT…</td>\n",
       "    </tr>\n",
       "    <tr>\n",
       "      <th>1</th>\n",
       "      <td>True</td>\n",
       "      <td>RT @RoKhanna: What happens when we guarantee $15/hour?\\n\\n💰 31% of Black workers and 26% of Latinx workers get raises.\\n😷 A majority of essent…</td>\n",
       "    </tr>\n",
       "    <tr>\n",
       "      <th>2</th>\n",
       "      <td>False</td>\n",
       "      <td>(Source: https://t.co/3o5JEr6zpd)</td>\n",
       "    </tr>\n",
       "    <tr>\n",
       "      <th>3</th>\n",
       "      <td>False</td>\n",
       "      <td>Joe Cunningham pledged to never take corporate PAC money, and he never did. Mace said she’ll cash every check she gets. Yet another way this is a downgrade. https://t.co/DytsQXKXgU</td>\n",
       "    </tr>\n",
       "    <tr>\n",
       "      <th>4</th>\n",
       "      <td>False</td>\n",
       "      <td>What’s even more gross is that Mace takes corporate PAC money.\\n\\nShe’s already funded by corporations. Now she’s choosing to swindle working people on top of it.\\n\\nPeak scam artistry. Caps for cash 💰 https://t.co/CcVxgDF6id</td>\n",
       "    </tr>\n",
       "    <tr>\n",
       "      <th>5</th>\n",
       "      <td>False</td>\n",
       "      <td>Joe Cunningham already proving to be leagues more decent + honest than Mace seems capable of.\\n\\nThe House was far better off w/ Cunningham. It’s sad to see Mace diminish the representation of her community by launching a reputation of craven dishonesty right off the bat.</td>\n",
       "    </tr>\n",
       "    <tr>\n",
       "      <th>6</th>\n",
       "      <td>True</td>\n",
       "      <td>Pretty horrible.\\n\\nWell, it’s good to know what kind of person she is early. Also good to know that Mace is cut from the same Trump cloth of dishonesty and opportunism.\\n\\nSad to see a colleague intentionally hurt other women and survivors to make a buck. Thought she’d be better. https://t.co/CcVxgDF6id</td>\n",
       "    </tr>\n",
       "    <tr>\n",
       "      <th>7</th>\n",
       "      <td>False</td>\n",
       "      <td>RT @jaketapper: .@RepNancyMace fundraising off the false smear that @AOC misrepresented her experience during the insurrection. She didn’t.…</td>\n",
       "    </tr>\n",
       "    <tr>\n",
       "      <th>8</th>\n",
       "      <td>False</td>\n",
       "      <td>RT @RepMcGovern: One reason Washington can’t “come together” is because of people like her sending out emails like this.\\n\\nShe should apolog…</td>\n",
       "    </tr>\n",
       "    <tr>\n",
       "      <th>9</th>\n",
       "      <td>True</td>\n",
       "      <td>RT @JoeNeguse: Just to be clear, “targeting” stimulus checks means denying them to some working families who would otherwise receive them.</td>\n",
       "    </tr>\n",
       "    <tr>\n",
       "      <th>10</th>\n",
       "      <td>False</td>\n",
       "      <td>Amazon workers have the right to form a union.\\n\\nAnti-union tactics like these, especially from a trillion-dollar company trying to disrupt essential workers from organizing for better wages and dignified working conditions in a pandemic, are wrong. https://t.co/nTDqMUapYs</td>\n",
       "    </tr>\n",
       "    <tr>\n",
       "      <th>11</th>\n",
       "      <td>False</td>\n",
       "      <td>RT @WorkingFamilies: Voters elected Democrats to deliver more relief, not less.</td>\n",
       "    </tr>\n",
       "    <tr>\n",
       "      <th>12</th>\n",
       "      <td>False</td>\n",
       "      <td>We should preserve what was there and not peg it to outdated 2019 income. People need help!</td>\n",
       "    </tr>\n",
       "    <tr>\n",
       "      <th>13</th>\n",
       "      <td>False</td>\n",
       "      <td>If conservative Senate Dems institute a lower income threshold in the next round of checks, that could potentially mean the first round of checks under Trump help more people than the first round under Biden.\\n\\nDo we want to do that? No? Then let’s stop playing &amp;amp; just help people.</td>\n",
       "    </tr>\n",
       "    <tr>\n",
       "      <th>14</th>\n",
       "      <td>False</td>\n",
       "      <td>@iamjoshfitz 😂 call your member of Congress, they can help track it down</td>\n",
       "    </tr>\n",
       "    <tr>\n",
       "      <th>15</th>\n",
       "      <td>False</td>\n",
       "      <td>All Dems need for the slam dunk is to do what people elected us to do: help as many people as possible.\\n\\nIt’s not hard. Let’s not screw it up with austerity nonsense that squeezes the working class yet never makes a peep when tax cuts for yachts and private jets are proposed.</td>\n",
       "    </tr>\n",
       "    <tr>\n",
       "      <th>16</th>\n",
       "      <td>False</td>\n",
       "      <td>It should be $2000 to begin w/ anyway. Brutally means-testing a $1400 round is going to hurt so many people. THAT is the risk we can’t afford.\\n\\nIncome thresholds already work in reverse &amp;amp; lag behind reality. Conservative Dems can ask to tax $ back later if they’re so concerned.</td>\n",
       "    </tr>\n",
       "    <tr>\n",
       "      <th>17</th>\n",
       "      <td>False</td>\n",
       "      <td>We cannot cut off relief at $50k. It is shockingly out of touch to assert that $50k is “too wealthy” to receive relief.\\n\\nMillions are on the brink of eviction. Give too little and they’re devastated. Give “too much” and a single mom might save for a rainy day. This isn’t hard. https://t.co/o14r3phJeH</td>\n",
       "    </tr>\n",
       "    <tr>\n",
       "      <th>18</th>\n",
       "      <td>True</td>\n",
       "      <td>Imagine being a policymaker in Washington, having witnessed the massive economic, social, and health destruction over the last year, and think that the greatest policy risk we face is providing *too much* relief.\\n\\nSounds silly, right?\\n\\n$1.9T should be a floor, not a ceiling.</td>\n",
       "    </tr>\n",
       "    <tr>\n",
       "      <th>19</th>\n",
       "      <td>False</td>\n",
       "      <td>@AndrewYang @TweetBenMax @RitchieTorres Thanks @AndrewYang! Happy to chat about the plan details and the community effort that’s gone into this legislation. 🌃🌎</td>\n",
       "    </tr>\n",
       "  </tbody>\n",
       "</table>\n",
       "</div>"
      ],
      "text/plain": [
       "    OpenAI  \\\n",
       "0     True   \n",
       "1     True   \n",
       "2    False   \n",
       "3    False   \n",
       "4    False   \n",
       "5    False   \n",
       "6     True   \n",
       "7    False   \n",
       "8    False   \n",
       "9     True   \n",
       "10   False   \n",
       "11   False   \n",
       "12   False   \n",
       "13   False   \n",
       "14   False   \n",
       "15   False   \n",
       "16   False   \n",
       "17   False   \n",
       "18    True   \n",
       "19   False   \n",
       "\n",
       "                                                                                                                                                                                                                                                                                                                 Text  \n",
       "0                                                                                                                                                                      RT @RepEscobar: Our country has the moral obligation and responsibility to reunite every single family separated at the southern border.\\n\\nT…  \n",
       "1                                                                                                                                                                     RT @RoKhanna: What happens when we guarantee $15/hour?\\n\\n💰 31% of Black workers and 26% of Latinx workers get raises.\\n😷 A majority of essent…  \n",
       "2                                                                                                                                                                                                                                                                                   (Source: https://t.co/3o5JEr6zpd)  \n",
       "3                                                                                                                                Joe Cunningham pledged to never take corporate PAC money, and he never did. Mace said she’ll cash every check she gets. Yet another way this is a downgrade. https://t.co/DytsQXKXgU  \n",
       "4                                                                                   What’s even more gross is that Mace takes corporate PAC money.\\n\\nShe’s already funded by corporations. Now she’s choosing to swindle working people on top of it.\\n\\nPeak scam artistry. Caps for cash 💰 https://t.co/CcVxgDF6id  \n",
       "5                                    Joe Cunningham already proving to be leagues more decent + honest than Mace seems capable of.\\n\\nThe House was far better off w/ Cunningham. It’s sad to see Mace diminish the representation of her community by launching a reputation of craven dishonesty right off the bat.  \n",
       "6   Pretty horrible.\\n\\nWell, it’s good to know what kind of person she is early. Also good to know that Mace is cut from the same Trump cloth of dishonesty and opportunism.\\n\\nSad to see a colleague intentionally hurt other women and survivors to make a buck. Thought she’d be better. https://t.co/CcVxgDF6id  \n",
       "7                                                                                                                                                                        RT @jaketapper: .@RepNancyMace fundraising off the false smear that @AOC misrepresented her experience during the insurrection. She didn’t.…  \n",
       "8                                                                                                                                                                      RT @RepMcGovern: One reason Washington can’t “come together” is because of people like her sending out emails like this.\\n\\nShe should apolog…  \n",
       "9                                                                                                                                                                          RT @JoeNeguse: Just to be clear, “targeting” stimulus checks means denying them to some working families who would otherwise receive them.  \n",
       "10                                 Amazon workers have the right to form a union.\\n\\nAnti-union tactics like these, especially from a trillion-dollar company trying to disrupt essential workers from organizing for better wages and dignified working conditions in a pandemic, are wrong. https://t.co/nTDqMUapYs  \n",
       "11                                                                                                                                                                                                                                    RT @WorkingFamilies: Voters elected Democrats to deliver more relief, not less.  \n",
       "12                                                                                                                                                                                                                        We should preserve what was there and not peg it to outdated 2019 income. People need help!  \n",
       "13                     If conservative Senate Dems institute a lower income threshold in the next round of checks, that could potentially mean the first round of checks under Trump help more people than the first round under Biden.\\n\\nDo we want to do that? No? Then let’s stop playing &amp; just help people.  \n",
       "14                                                                                                                                                                                                                                           @iamjoshfitz 😂 call your member of Congress, they can help track it down  \n",
       "15                             All Dems need for the slam dunk is to do what people elected us to do: help as many people as possible.\\n\\nIt’s not hard. Let’s not screw it up with austerity nonsense that squeezes the working class yet never makes a peep when tax cuts for yachts and private jets are proposed.  \n",
       "16                       It should be $2000 to begin w/ anyway. Brutally means-testing a $1400 round is going to hurt so many people. THAT is the risk we can’t afford.\\n\\nIncome thresholds already work in reverse &amp; lag behind reality. Conservative Dems can ask to tax $ back later if they’re so concerned.  \n",
       "17    We cannot cut off relief at $50k. It is shockingly out of touch to assert that $50k is “too wealthy” to receive relief.\\n\\nMillions are on the brink of eviction. Give too little and they’re devastated. Give “too much” and a single mom might save for a rainy day. This isn’t hard. https://t.co/o14r3phJeH  \n",
       "18                            Imagine being a policymaker in Washington, having witnessed the massive economic, social, and health destruction over the last year, and think that the greatest policy risk we face is providing *too much* relief.\\n\\nSounds silly, right?\\n\\n$1.9T should be a floor, not a ceiling.  \n",
       "19                                                                                                                                                    @AndrewYang @TweetBenMax @RitchieTorres Thanks @AndrewYang! Happy to chat about the plan details and the community effort that’s gone into this legislation. 🌃🌎  "
      ]
     },
     "execution_count": 30,
     "metadata": {},
     "output_type": "execute_result"
    }
   ],
   "source": [
    "pd.set_option('display.max_colwidth', None)\n",
    "df = pd.DataFrame({\"OpenAI\": open_ai_answers, \n",
    "                   # \"Vicuna\": vicuna_answers,\n",
    "                   \"Text\": tweets['full_text'].head(20)})\n",
    "df[\"OpenAI\"] = df[\"OpenAI\"].str.contains(\"Y\")\n",
    "# df[\"Vicuna\"] = df[\"Vicuna\"].str.contains(\"Y\")\n",
    "df"
   ]
  },
  {
   "cell_type": "code",
   "execution_count": 31,
   "id": "bf7a4abe-d72d-4310-b297-21cca5f3e86a",
   "metadata": {
    "tags": []
   },
   "outputs": [
    {
     "data": {
      "text/html": [
       "<div>\n",
       "<style scoped>\n",
       "    .dataframe tbody tr th:only-of-type {\n",
       "        vertical-align: middle;\n",
       "    }\n",
       "\n",
       "    .dataframe tbody tr th {\n",
       "        vertical-align: top;\n",
       "    }\n",
       "\n",
       "    .dataframe thead th {\n",
       "        text-align: right;\n",
       "    }\n",
       "</style>\n",
       "<table border=\"1\" class=\"dataframe\">\n",
       "  <thead>\n",
       "    <tr style=\"text-align: right;\">\n",
       "      <th></th>\n",
       "      <th>OpenAI</th>\n",
       "      <th>Text</th>\n",
       "    </tr>\n",
       "  </thead>\n",
       "  <tbody>\n",
       "    <tr>\n",
       "      <th>0</th>\n",
       "      <td>\\nNo</td>\n",
       "      <td>RT @RepEscobar: Our country has the moral obligation and responsibility to reunite every single family separated at the southern border.\\n\\nT…</td>\n",
       "    </tr>\n",
       "    <tr>\n",
       "      <th>1</th>\n",
       "      <td>\\nNo</td>\n",
       "      <td>RT @RoKhanna: What happens when we guarantee $15/hour?\\n\\n💰 31% of Black workers and 26% of Latinx workers get raises.\\n😷 A majority of essent…</td>\n",
       "    </tr>\n",
       "    <tr>\n",
       "      <th>2</th>\n",
       "      <td>No</td>\n",
       "      <td>(Source: https://t.co/3o5JEr6zpd)</td>\n",
       "    </tr>\n",
       "    <tr>\n",
       "      <th>3</th>\n",
       "      <td>\\nNo</td>\n",
       "      <td>Joe Cunningham pledged to never take corporate PAC money, and he never did. Mace said she’ll cash every check she gets. Yet another way this is a downgrade. https://t.co/DytsQXKXgU</td>\n",
       "    </tr>\n",
       "    <tr>\n",
       "      <th>4</th>\n",
       "      <td>No</td>\n",
       "      <td>What’s even more gross is that Mace takes corporate PAC money.\\n\\nShe’s already funded by corporations. Now she’s choosing to swindle working people on top of it.\\n\\nPeak scam artistry. Caps for cash 💰 https://t.co/CcVxgDF6id</td>\n",
       "    </tr>\n",
       "    <tr>\n",
       "      <th>5</th>\n",
       "      <td>\\nYes</td>\n",
       "      <td>Joe Cunningham already proving to be leagues more decent + honest than Mace seems capable of.\\n\\nThe House was far better off w/ Cunningham. It’s sad to see Mace diminish the representation of her community by launching a reputation of craven dishonesty right off the bat.</td>\n",
       "    </tr>\n",
       "    <tr>\n",
       "      <th>6</th>\n",
       "      <td>\\nNo</td>\n",
       "      <td>Pretty horrible.\\n\\nWell, it’s good to know what kind of person she is early. Also good to know that Mace is cut from the same Trump cloth of dishonesty and opportunism.\\n\\nSad to see a colleague intentionally hurt other women and survivors to make a buck. Thought she’d be better. https://t.co/CcVxgDF6id</td>\n",
       "    </tr>\n",
       "    <tr>\n",
       "      <th>7</th>\n",
       "      <td>\\nNo</td>\n",
       "      <td>RT @jaketapper: .@RepNancyMace fundraising off the false smear that @AOC misrepresented her experience during the insurrection. She didn’t.…</td>\n",
       "    </tr>\n",
       "    <tr>\n",
       "      <th>8</th>\n",
       "      <td>\\nYes</td>\n",
       "      <td>RT @RepMcGovern: One reason Washington can’t “come together” is because of people like her sending out emails like this.\\n\\nShe should apolog…</td>\n",
       "    </tr>\n",
       "    <tr>\n",
       "      <th>9</th>\n",
       "      <td>\\nNo</td>\n",
       "      <td>RT @JoeNeguse: Just to be clear, “targeting” stimulus checks means denying them to some working families who would otherwise receive them.</td>\n",
       "    </tr>\n",
       "    <tr>\n",
       "      <th>10</th>\n",
       "      <td>\\nNo</td>\n",
       "      <td>Amazon workers have the right to form a union.\\n\\nAnti-union tactics like these, especially from a trillion-dollar company trying to disrupt essential workers from organizing for better wages and dignified working conditions in a pandemic, are wrong. https://t.co/nTDqMUapYs</td>\n",
       "    </tr>\n",
       "    <tr>\n",
       "      <th>11</th>\n",
       "      <td>\\nNo</td>\n",
       "      <td>RT @WorkingFamilies: Voters elected Democrats to deliver more relief, not less.</td>\n",
       "    </tr>\n",
       "    <tr>\n",
       "      <th>12</th>\n",
       "      <td>No</td>\n",
       "      <td>We should preserve what was there and not peg it to outdated 2019 income. People need help!</td>\n",
       "    </tr>\n",
       "    <tr>\n",
       "      <th>13</th>\n",
       "      <td>No</td>\n",
       "      <td>If conservative Senate Dems institute a lower income threshold in the next round of checks, that could potentially mean the first round of checks under Trump help more people than the first round under Biden.\\n\\nDo we want to do that? No? Then let’s stop playing &amp;amp; just help people.</td>\n",
       "    </tr>\n",
       "    <tr>\n",
       "      <th>14</th>\n",
       "      <td>No</td>\n",
       "      <td>@iamjoshfitz 😂 call your member of Congress, they can help track it down</td>\n",
       "    </tr>\n",
       "    <tr>\n",
       "      <th>15</th>\n",
       "      <td>\\nYes</td>\n",
       "      <td>All Dems need for the slam dunk is to do what people elected us to do: help as many people as possible.\\n\\nIt’s not hard. Let’s not screw it up with austerity nonsense that squeezes the working class yet never makes a peep when tax cuts for yachts and private jets are proposed.</td>\n",
       "    </tr>\n",
       "    <tr>\n",
       "      <th>16</th>\n",
       "      <td>\\nNo</td>\n",
       "      <td>It should be $2000 to begin w/ anyway. Brutally means-testing a $1400 round is going to hurt so many people. THAT is the risk we can’t afford.\\n\\nIncome thresholds already work in reverse &amp;amp; lag behind reality. Conservative Dems can ask to tax $ back later if they’re so concerned.</td>\n",
       "    </tr>\n",
       "    <tr>\n",
       "      <th>17</th>\n",
       "      <td>\\nNo</td>\n",
       "      <td>We cannot cut off relief at $50k. It is shockingly out of touch to assert that $50k is “too wealthy” to receive relief.\\n\\nMillions are on the brink of eviction. Give too little and they’re devastated. Give “too much” and a single mom might save for a rainy day. This isn’t hard. https://t.co/o14r3phJeH</td>\n",
       "    </tr>\n",
       "    <tr>\n",
       "      <th>18</th>\n",
       "      <td>\\nNo</td>\n",
       "      <td>Imagine being a policymaker in Washington, having witnessed the massive economic, social, and health destruction over the last year, and think that the greatest policy risk we face is providing *too much* relief.\\n\\nSounds silly, right?\\n\\n$1.9T should be a floor, not a ceiling.</td>\n",
       "    </tr>\n",
       "    <tr>\n",
       "      <th>19</th>\n",
       "      <td>\\nYes</td>\n",
       "      <td>@AndrewYang @TweetBenMax @RitchieTorres Thanks @AndrewYang! Happy to chat about the plan details and the community effort that’s gone into this legislation. 🌃🌎</td>\n",
       "    </tr>\n",
       "  </tbody>\n",
       "</table>\n",
       "</div>"
      ],
      "text/plain": [
       "   OpenAI  \\\n",
       "0    \\nNo   \n",
       "1    \\nNo   \n",
       "2      No   \n",
       "3    \\nNo   \n",
       "4      No   \n",
       "5   \\nYes   \n",
       "6    \\nNo   \n",
       "7    \\nNo   \n",
       "8   \\nYes   \n",
       "9    \\nNo   \n",
       "10   \\nNo   \n",
       "11   \\nNo   \n",
       "12     No   \n",
       "13     No   \n",
       "14     No   \n",
       "15  \\nYes   \n",
       "16   \\nNo   \n",
       "17   \\nNo   \n",
       "18   \\nNo   \n",
       "19  \\nYes   \n",
       "\n",
       "                                                                                                                                                                                                                                                                                                                 Text  \n",
       "0                                                                                                                                                                      RT @RepEscobar: Our country has the moral obligation and responsibility to reunite every single family separated at the southern border.\\n\\nT…  \n",
       "1                                                                                                                                                                     RT @RoKhanna: What happens when we guarantee $15/hour?\\n\\n💰 31% of Black workers and 26% of Latinx workers get raises.\\n😷 A majority of essent…  \n",
       "2                                                                                                                                                                                                                                                                                   (Source: https://t.co/3o5JEr6zpd)  \n",
       "3                                                                                                                                Joe Cunningham pledged to never take corporate PAC money, and he never did. Mace said she’ll cash every check she gets. Yet another way this is a downgrade. https://t.co/DytsQXKXgU  \n",
       "4                                                                                   What’s even more gross is that Mace takes corporate PAC money.\\n\\nShe’s already funded by corporations. Now she’s choosing to swindle working people on top of it.\\n\\nPeak scam artistry. Caps for cash 💰 https://t.co/CcVxgDF6id  \n",
       "5                                    Joe Cunningham already proving to be leagues more decent + honest than Mace seems capable of.\\n\\nThe House was far better off w/ Cunningham. It’s sad to see Mace diminish the representation of her community by launching a reputation of craven dishonesty right off the bat.  \n",
       "6   Pretty horrible.\\n\\nWell, it’s good to know what kind of person she is early. Also good to know that Mace is cut from the same Trump cloth of dishonesty and opportunism.\\n\\nSad to see a colleague intentionally hurt other women and survivors to make a buck. Thought she’d be better. https://t.co/CcVxgDF6id  \n",
       "7                                                                                                                                                                        RT @jaketapper: .@RepNancyMace fundraising off the false smear that @AOC misrepresented her experience during the insurrection. She didn’t.…  \n",
       "8                                                                                                                                                                      RT @RepMcGovern: One reason Washington can’t “come together” is because of people like her sending out emails like this.\\n\\nShe should apolog…  \n",
       "9                                                                                                                                                                          RT @JoeNeguse: Just to be clear, “targeting” stimulus checks means denying them to some working families who would otherwise receive them.  \n",
       "10                                 Amazon workers have the right to form a union.\\n\\nAnti-union tactics like these, especially from a trillion-dollar company trying to disrupt essential workers from organizing for better wages and dignified working conditions in a pandemic, are wrong. https://t.co/nTDqMUapYs  \n",
       "11                                                                                                                                                                                                                                    RT @WorkingFamilies: Voters elected Democrats to deliver more relief, not less.  \n",
       "12                                                                                                                                                                                                                        We should preserve what was there and not peg it to outdated 2019 income. People need help!  \n",
       "13                     If conservative Senate Dems institute a lower income threshold in the next round of checks, that could potentially mean the first round of checks under Trump help more people than the first round under Biden.\\n\\nDo we want to do that? No? Then let’s stop playing &amp; just help people.  \n",
       "14                                                                                                                                                                                                                                           @iamjoshfitz 😂 call your member of Congress, they can help track it down  \n",
       "15                             All Dems need for the slam dunk is to do what people elected us to do: help as many people as possible.\\n\\nIt’s not hard. Let’s not screw it up with austerity nonsense that squeezes the working class yet never makes a peep when tax cuts for yachts and private jets are proposed.  \n",
       "16                       It should be $2000 to begin w/ anyway. Brutally means-testing a $1400 round is going to hurt so many people. THAT is the risk we can’t afford.\\n\\nIncome thresholds already work in reverse &amp; lag behind reality. Conservative Dems can ask to tax $ back later if they’re so concerned.  \n",
       "17    We cannot cut off relief at $50k. It is shockingly out of touch to assert that $50k is “too wealthy” to receive relief.\\n\\nMillions are on the brink of eviction. Give too little and they’re devastated. Give “too much” and a single mom might save for a rainy day. This isn’t hard. https://t.co/o14r3phJeH  \n",
       "18                            Imagine being a policymaker in Washington, having witnessed the massive economic, social, and health destruction over the last year, and think that the greatest policy risk we face is providing *too much* relief.\\n\\nSounds silly, right?\\n\\n$1.9T should be a floor, not a ceiling.  \n",
       "19                                                                                                                                                    @AndrewYang @TweetBenMax @RitchieTorres Thanks @AndrewYang! Happy to chat about the plan details and the community effort that’s gone into this legislation. 🌃🌎  "
      ]
     },
     "execution_count": 31,
     "metadata": {},
     "output_type": "execute_result"
    }
   ],
   "source": [
    "prompt = \"\"\"\n",
    "Is the following text self promoting? You should answer either Yes or No.\n",
    "\n",
    "{text}\n",
    "\n",
    "Answer:\n",
    "\"\"\"\n",
    "questions = [prompt.format_map(dict(text=t)) for t in tweets['full_text'].head(20)]\n",
    "open_ai_answers2 = llm.batch(questions)\n",
    "df2 = pd.DataFrame({\"OpenAI\": open_ai_answers2, \n",
    "                   \"Text\": tweets['full_text'].head(20)})\n",
    "# df2[\"OpenAI\"] = df2[\"OpenAI\"].str.contains(\"Y\")\n",
    "df2"
   ]
  }
 ],
 "metadata": {
  "kernelspec": {
   "display_name": "Python 3 (ipykernel)",
   "language": "python",
   "name": "python3"
  },
  "language_info": {
   "codemirror_mode": {
    "name": "ipython",
    "version": 3
   },
   "file_extension": ".py",
   "mimetype": "text/x-python",
   "name": "python",
   "nbconvert_exporter": "python",
   "pygments_lexer": "ipython3",
   "version": "3.11.0"
  }
 },
 "nbformat": 4,
 "nbformat_minor": 5
}
